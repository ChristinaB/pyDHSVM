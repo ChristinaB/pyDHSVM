{
 "cells": [
  {
   "cell_type": "code",
   "execution_count": 9,
   "metadata": {},
   "outputs": [],
   "source": [
    "import pandas as pd\n",
    "import numpy as np"
   ]
  },
  {
   "cell_type": "markdown",
   "metadata": {},
   "source": [
    "### Constants"
   ]
  },
  {
   "cell_type": "code",
   "execution_count": 2,
   "metadata": {},
   "outputs": [],
   "source": [
    "mass_dry_air = 28.56 # Ma g/mol\tdry air behaves as a homogeneous gas of molecular weight\n",
    "mass_wet_air = 18    #Ma g/mol\twet air behaves as a homogeneous gas of molecular weight\n",
    "cp = 1007 # J/(kg•K)  constant pressure specific heat \t\t\n",
    "R_mol = 8.31447 # J/(mol•K)  Universal Gas Constant\t\n",
    "R_kg = 287.058 #J/kg/k  Universal Gas Constant\n",
    "T_atm =250 # (K) mean atmospheric temperature\n",
    "g = 9.8 #   m/s2\tgravity\n",
    "z_sea_level = 0 # m  Elevation at sea level\n",
    "P_sea_level = 101325 #Pascals - sea level standard atmospheric pressure \n",
    "\n",
    "# Temperature is inversely related to Density at Sea Level\n",
    "# Temperature is directly related to Pressure\n",
    "# T & P are inversely related to elevation\n",
    "# dP is inversely related to z   \n",
    "# dT is directly related to z   \n",
    "# For a increase in z, dP decreases in magnitude and dT increases in magnitude"
   ]
  },
  {
   "cell_type": "code",
   "execution_count": 49,
   "metadata": {},
   "outputs": [],
   "source": [
    "pressure_z_list=[]\n",
    "dPdz_list=[]\n",
    "dTdz_list=[]\n",
    "\n",
    "def lapsemodel(T,P,RH,z,plapse):\n",
    "            \n",
    "            if P > 0.0:\n",
    "                mass_air=mass_wet_air\n",
    "                Precip_z=P + plapse*(z)\n",
    "            else:\n",
    "                mass_air=mass_dry_air\n",
    "                Precip_z=P \n",
    "            \n",
    "            mass_air=RH*mass_wet_air/100 + (100-RH)*mass_dry_air/100\n",
    "            \n",
    "            H=R_mol*1000*(T+273.15)/(mass_air*g)  # result in m\n",
    "            \n",
    "            pressure_z=P_sea_level*np.exp(-1*(z/H))\n",
    "\n",
    "            density_sealevel=P_sea_level/((T+273.15)*R_kg)\n",
    "            \n",
    "            dPdz=(pressure_z-P_sea_level)/(z-0)\n",
    "        \n",
    "            dTdz=dPdz/(cp*density_sealevel)   \n",
    "            \n",
    "            return(Precip_z,dTdz)\n",
    "\n"
   ]
  },
  {
   "cell_type": "markdown",
   "metadata": {},
   "source": [
    "### Input Time Series"
   ]
  },
  {
   "cell_type": "code",
   "execution_count": null,
   "metadata": {},
   "outputs": [
    {
     "data": {
      "text/plain": [
       "(283432,)"
      ]
     },
     "execution_count": 41,
     "metadata": {},
     "output_type": "execute_result"
    }
   ],
   "source": [
    "header=['Date','T_min','T_max','Relative_Humidity','ShortWave','LongWave','Precip_m']\n",
    "data=pd.read_csv('/home/ubuntu/DHSVMinput_Sauk57_raw_liv/data_48.34375_-121.34375',sep=' ',names=header)\n",
    "T=(data.T_min+data.T_max)/2\n",
    "P=data.Precip_m\n",
    "RH=data.Relative_Humidity\n",
    "\n",
    "\n",
    "T.shape\n",
    "P.shape\n",
    "RH.shape\n",
    "#pd.write_csv()"
   ]
  },
  {
   "cell_type": "code",
   "execution_count": 56,
   "metadata": {},
   "outputs": [],
   "source": [
    "z=np.repeat(167,T.shape[0])\n",
    "plapse=0.0000006\n",
    "Precip_z = []\n",
    "dTdz=[]\n",
    "for i in range(len(T)):\n",
    "    Precip_temp,dTdz_temp = lapsemodel(T[i],P[i],RH[i],z[i],plapse)\n",
    "    Precip_z.append(Precip_temp)\n",
    "    dTdz.append(dTdz_temp)\n",
    "\n",
    "    \n"
   ]
  },
  {
   "cell_type": "code",
   "execution_count": 62,
   "metadata": {},
   "outputs": [
    {
     "data": {
      "text/plain": [
       "-0.007047144094028"
      ]
     },
     "execution_count": 62,
     "metadata": {},
     "output_type": "execute_result"
    }
   ],
   "source": [
    "np.mean(dTdz)"
   ]
  },
  {
   "cell_type": "code",
   "execution_count": 66,
   "metadata": {},
   "outputs": [],
   "source": [
    "z=np.repeat(3000,T.shape[0])\n",
    "plapse=0.0000006\n",
    "Precip_z = []\n",
    "dTdz=[]\n",
    "for i in range(len(T)):\n",
    "    Precip_temp,dTdz_temp = lapsemodel(T[i],P[i],RH[i],z[i],plapse)\n",
    "    Precip_z.append(Precip_temp)\n",
    "    dTdz.append(dTdz_temp)\n",
    "\n",
    "    "
   ]
  },
  {
   "cell_type": "code",
   "execution_count": 68,
   "metadata": {},
   "outputs": [
    {
     "name": "stdout",
     "output_type": "stream",
     "text": [
      "-0.007858485261939467\n",
      "-0.006211766129876268\n",
      "-0.005362937952182563\n"
     ]
    }
   ],
   "source": [
    "np.mean(dTdz)\n",
    "print(np.min(dTdz))\n",
    "print(np.mean(dTdz))\n",
    "print(np.max(dTdz))"
   ]
  },
  {
   "cell_type": "code",
   "execution_count": 91,
   "metadata": {},
   "outputs": [],
   "source": [
    "data_lapsed=pd.DataFrame()\n",
    "data_lapsed['Date']=data.Date.values\n",
    "data_lapsed['T_min']=np.around(data.T_min.values,2)\n",
    "data_lapsed['T_max']=np.around(data.T_max.values,2)\n",
    "data_lapsed['Relative_Humidity']=np.around(data.Relative_Humidity.values,1)\n",
    "data_lapsed['ShortWave']=np.around(data.ShortWave.values,3)\n",
    "data_lapsed['LongWave']=np.around(data.LongWave.values,3)\n",
    "data_lapsed['Precip_m']=np.around(Precip_z,5)\n",
    "data_lapsed['dTdz']=np.around(dTdz,5)\n",
    "data_lapsed.to_csv('sauk_base_station.data_48.34375_-121.34375',index=False,header=None,sep=' ')"
   ]
  },
  {
   "cell_type": "code",
   "execution_count": 43,
   "metadata": {},
   "outputs": [
    {
     ]
    }
   ],
   "source": [
    "z=np.repeat(2000,T.shape[0])\n",
    "plapse=0.0000006\n",
    "\n",
    "for i in range(len(T)):\n",
    "    print(lapsemodel(T[i],P[i],RH[i],z[i],plapse))"
   ]
  },
  {
   "cell_type": "code",
   "execution_count": 5,
   "metadata": {},
   "outputs": [
    {
     "name": "stdout",
     "output_type": "stream",
     "text": [
      "(10, 0, 0, 101312.9545247683, -0.00959542193766623)\n",
      "(15, 0, 0, 101313.1635265321, -0.009595431834803563)\n",
      "(20, 0.0, 0.0, 101313.36539918913, -0.009595441394361895)\n",
      "(10, 0.001378, 0.0013786, 101317.40814707245, -0.0060476677530198)\n",
      "(15, 0.001378, 0.0013786, 101317.53987661336, -0.006047671684462485)\n",
      "(20, 0.001378, 0.0013786, 101317.66711272858, -0.006047675481796224)\n",
      "(-5, 0, 0, 101312.2807571473, -0.009595390031749496)\n",
      "(-10, 0, 0, 101312.03909974024, -0.009595378588178423)\n",
      "(-5, 0.001378, 0.0013786, 101316.98348442478, -0.006047655079048637)\n",
      "(-10, 0.001378, 0.0013786, 101316.83117219943, -0.006047650533314262)\n"
     ]
    }
   ],
   "source": [
    "T=[10,15,20,10,15,20,-5,-10,-5,-10]\n",
    "P=[0, 0, 0.0, 0.001378, 0.001378, 0.001378,0,0,0.001378,0.001378]\n",
    "z=np.repeat(1,10)\n",
    "plapse=0.0000006\n",
    "for i in range(len(T)):\n",
    "    print(lapsemodel(T[i],P[i],z[i],plapse))"
   ]
  },
  {
   "cell_type": "code",
   "execution_count": 6,
   "metadata": {},
   "outputs": [
    {
     "name": "stdout",
     "output_type": "stream",
     "text": [
      "(10, 0, 0, 70928.56042910829, -0.008071264865716491)\n",
      "(15, 0, 0, 71368.88355431371, -0.008094806114040124)\n",
      "(20, 0.0, 0.0, 71796.78133150136, -0.008117633952937063)\n",
      "(10, 0.001378, 0.0031780000000000003, 80926.99585568866, -0.005416347983675698)\n",
      "(15, 0.001378, 0.0031780000000000003, 81243.26786376268, -0.005426528781581712)\n",
      "(20, 0.001378, 0.0031780000000000003, 81549.9245775604, -0.005436386985386981)\n",
      "(-5, 0, 0, 69527.47741929324, -0.007996011364789533)\n",
      "(-10, 0, 0, 69031.72673435455, -0.007969255649045843)\n",
      "(-5, 0.001378, 0.0031780000000000003, 79915.77044884267, -0.005383703789121955)\n",
      "(-10, 0.001378, 0.0031780000000000003, 79556.16387375513, -0.005372060578844602)\n"
     ]
    }
   ],
   "source": [
    "T=[10,15,20,10,15,20,-5,-10,-5,-10]\n",
    "P=[0, 0, 0.0, 0.001378, 0.001378, 0.001378,0,0,0.001378,0.001378]\n",
    "z=np.repeat(3000,10)\n",
    "plapse=0.0000006\n",
    "for i in range(len(T)):\n",
    "    print(lapsemodel(T[i],P[i],z[i],plapse))"
   ]
  },
  {
   "cell_type": "code",
   "execution_count": 6,
   "metadata": {},
   "outputs": [
    {
     "name": "stdout",
     "output_type": "stream",
     "text": [
      "(10, 0, 0, 70928.56042910829, -0.008071264865716491)\n",
      "(15, 0, 0, 71368.88355431371, -0.008094806114040124)\n",
      "(20, 0.0, 0.0, 71796.78133150136, -0.008117633952937063)\n",
      "(10, 0.001378, 0.0031780000000000003, 80926.99585568866, -0.005416347983675698)\n",
      "(15, 0.001378, 0.0031780000000000003, 81243.26786376268, -0.005426528781581712)\n",
      "(20, 0.001378, 0.0031780000000000003, 81549.9245775604, -0.005436386985386981)\n",
      "(-5, 0, 0, 69527.47741929324, -0.007996011364789533)\n",
      "(-10, 0, 0, 69031.72673435455, -0.007969255649045843)\n",
      "(-5, 0.001378, 0.0031780000000000003, 79915.77044884267, -0.005383703789121955)\n",
      "(-10, 0.001378, 0.0031780000000000003, 79556.16387375513, -0.005372060578844602)\n"
     ]
    }
   ],
   "source": [
    "T=[10,15,20,10,15,20,-5,-10,-5,-10]\n",
    "P=[0, 0, 0.0, 0.001378, 0.001378, 0.001378,0,0,0.001378,0.001378]\n"
   ]
  },
  {
   "cell_type": "code",
   "execution_count": 25,
   "metadata": {},
   "outputs": [],
   "source": [
    "pressure_z_list=[]\n",
    "dPdz_list=[]\n",
    "dTdz_list=[]\n",
    "\n",
    "def lapsemodel_noRH(T,P,RH,z,plapse):\n",
    "            \n",
    "            if P > 0.0:\n",
    "                mass_air=mass_wet_air\n",
    "                Precip_z=P + plapse*(z)\n",
    "            else:\n",
    "                mass_air=mass_dry_air\n",
    "                Precip_z=P \n",
    "                \n",
    "            H=R_mol*1000*(T+273.15)/(mass_air*g)  # result in m\n",
    "            \n",
    "            pressure_z=P_sea_level*np.exp(-1*(z/H))\n",
    "\n",
    "            density_sealevel=P_sea_level/((T+273.15)*R_kg)\n",
    "            \n",
    "            dPdz=(pressure_z-P_sea_level)/(z-0)\n",
    "        \n",
    "            dTdz=dPdz/(cp*density_sealevel)   \n",
    "            \n",
    "            return(T,P,Precip_z,pressure_z,dTdz)\n",
    "\n"
   ]
  },
  {
   "cell_type": "code",
   "execution_count": 90,
   "metadata": {},
   "outputs": [
    {
     "ename": "IndentationError",
     "evalue": "unindent does not match any outer indentation level (<tokenize>, line 158)",
     "output_type": "error",
     "traceback": [
      "\u001b[0;36m  File \u001b[0;32m\"<tokenize>\"\u001b[0;36m, line \u001b[0;32m158\u001b[0m\n\u001b[0;31m    def updated_boundary_conditions(self):\u001b[0m\n\u001b[0m    ^\u001b[0m\n\u001b[0;31mIndentationError\u001b[0m\u001b[0;31m:\u001b[0m unindent does not match any outer indentation level\n"
     ]
    }
   ],
   "source": [
    "from landlab import Component, FieldError\n",
    "import numpy as np\n",
    "\n",
    "class LapseModel(Component):\n",
    "    \"\"\"\n",
    "    Calculate atmospheric variability over topography.\n",
    "    \n",
    "    Landlab component that implements a two-dimensional lapse rate model.\n",
    "    \n",
    "    Construction:\n",
    "    \n",
    "        LapseModel(grid, precip_lapse=1.0, \n",
    "                                 precip_duration=1.0, \n",
    "                                 infilt_rate=0.0,\n",
    "                                 roughness=0.01, **kwds)\n",
    "    \n",
    "    Parameters\n",
    "    ----------\n",
    "    grid : ModelGrid\n",
    "        A Landlab grid object.\n",
    "    precip_rate : float, optional (defaults to 1 mm/hr)\n",
    "        Precipitation rate, mm/hr\n",
    "    precip_duration : float, optional (defaults to 1 hour)\n",
    "        Duration of precipitation, hours\n",
    "    infilt_rate : float, optional (defaults to 0)\n",
    "        Maximum rate of infiltration, mm/hr\n",
    "    roughnes : float, defaults to 0.01\n",
    "        Manning roughness coefficient, s/m^1/3\n",
    "        \n",
    "    Examples\n",
    "    --------\n",
    "    >>> from landlab import RasterModelGrid\n",
    "    >>> rg = RasterModelGrid((4, 5), 10.0)\n",
    "    >>> kw = KinwaveOverlandFlowModel(rg)\n",
    "    >>> kw.vel_coef\n",
    "    100.0\n",
    "    >>> rg.at_node['surface_water__depth']\n",
    "    array([ 0.,  0.,  0.,  0.,  0.,  0.,  0.,  0.,  0.,  0.,  0.,  0.,  0.,\n",
    "            0.,  0.,  0.,  0.,  0.,  0.,  0.])    \n",
    "    \"\"\"\n",
    "\n",
    "    _name = 'KinwaveOverlandFlowModel'\n",
    "\n",
    "    _input_var_names = (\n",
    "        'topographic__elevation',\n",
    "    )\n",
    "\n",
    "    _output_var_names = (\n",
    "        'topographic__gradient',\n",
    "        'surface_water__depth',\n",
    "        'water__velocity',\n",
    "        'water__specific_discharge',\n",
    "    )\n",
    "\n",
    "    _var_units = {\n",
    "        'topographic__elevation' : 'm',\n",
    "        'topographic__slope' : 'm/m',\n",
    "        'surface_water__depth' : 'm',\n",
    "        'water__velocity' : 'm/s',\n",
    "        'water__specific_discharge' : 'm2/s',\n",
    "    }\n",
    "\n",
    "    _var_mapping = {\n",
    "        'topographic__elevation' : 'node',\n",
    "        'topographic__gradient' : 'link',\n",
    "        'surface_water__depth' : 'node',\n",
    "        'water__velocity' : 'link',\n",
    "        'water__specific_discharge' : 'link',\n",
    "    }\n",
    "\n",
    "    _var_doc = {\n",
    "        'topographic__elevation':\n",
    "            'elevation of the ground surface relative to some datum',\n",
    "        'topographic__gradient':\n",
    "            'gradient of the ground surface',\n",
    "        'surface_water__depth':\n",
    "            'depth of water',\n",
    "        'water__velocity':\n",
    "            'flow velocity component in the direction of the link',\n",
    "        'water__specific_discharge':\n",
    "            'flow discharge component in the direction of the link',    \n",
    "    }\n",
    "\n",
    "    def __init__(self, grid, precip_rate=1.0, precip_duration=1.0, \n",
    "                 infilt_rate=0.0, roughness=0.01, **kwds):\n",
    "        \"\"\"Initialize the KinwaveOverlandFlowModel.\n",
    "\n",
    "        Parameters\n",
    "        ----------\n",
    "        grid : ModelGrid\n",
    "            Landlab ModelGrid object\n",
    "        precip_rate : float, optional (defaults to 1 mm/hr)\n",
    "            Precipitation rate, mm/hr\n",
    "        precip_duration : float, optional (defaults to 1 hour)\n",
    "            Duration of precipitation, hours\n",
    "        infilt_rate : float, optional (defaults to 0)\n",
    "            Maximum rate of infiltration, mm/hr\n",
    "        roughnes : float, defaults to 0.01\n",
    "            Manning roughness coefficient, s/m^1/3\n",
    "        \"\"\"\n",
    "\n",
    "        # Store grid and parameters and do unit conversion\n",
    "        self._grid = grid\n",
    "        self._bc_set_code = self.grid.bc_set_code\n",
    "        self.precip = precip_rate / 3600000.0 # convert to m/s\n",
    "        self.precip_duration = precip_duration * 3600.0  # h->s\n",
    "        self.infilt = infilt_rate / 3600000.0 # convert to m/s\n",
    "        self.vel_coef = 1.0 / roughness  # do division now to save time\n",
    "        \n",
    "        mass_dry_air = 28.56 # Ma g/mol\tdry air behaves as a homogeneous gas of molecular weight\n",
    "        mass_wet_air = 18    #Ma g/mol\twet air behaves as a homogeneous gas of molecular weight\n",
    "        cp = 1007 # J/(kg•K)  constant pressure specific heat \t\t\n",
    "        R \t287.058\tJ/kg/k\n",
    "        R \t8.31447\tJ/(mol•K)\n",
    "T  (K)\t250\tmean atmospheric temperature\n",
    "Po\t101325\tPa\n",
    "g  m/s2\t9.8\tgravity\n",
    "z Sea level\t0\t\n",
    "z1\t406\t\n",
    "z2\t1436\t\n",
    "\n",
    "        \n",
    "\n",
    "        # Create fields...\n",
    "        #   Elevation\n",
    "        if 'topographic__elevation' in grid.at_node:\n",
    "            self.elev = grid.at_node['topographic__elevation']\n",
    "        else:\n",
    "            raise FieldError(\n",
    "                'A topography is required as a component input!')\n",
    "        #  Water depth\n",
    "        if 'surface_water__depth' in grid.at_node:\n",
    "            self.depth = grid.at_node['surface_water__depth']\n",
    "        else:\n",
    "            self.depth = grid.add_zeros('node', 'surface_water__depth')\n",
    "        #   Slope\n",
    "        if 'topographic__gradient' in grid.at_link:\n",
    "            self.slope = grid.at_link['topographic__gradient']\n",
    "        else:\n",
    "            self.slope = grid.add_zeros('link', 'topographic__gradient')\n",
    "        #  Velocity\n",
    "        if 'water__velocity' in grid.at_link:\n",
    "            self.vel = grid.at_link['water__velocity']\n",
    "        else:\n",
    "            self.vel = grid.add_zeros('link', 'water__velocity')\n",
    "        #  Discharge\n",
    "        if 'water__specific_discharge' in grid.at_link:\n",
    "            self.disch = grid.at_link['water__specific_discharge']\n",
    "        else:\n",
    "            self.disch = grid.add_zeros('link',\n",
    "                                        'water__specific_discharge')\n",
    "\n",
    "        # Calculate the ground-surface slope\n",
    "        self.slope[self._grid.active_links] = \\\n",
    "            self._grid.calc_grad_at_link(self.elev)[self._grid.active_links]\n",
    "        self.sqrt_slope = np.sqrt( self.slope )\n",
    "        self.sign_slope = np.sign( self.slope )\n",
    "\n",
    "    def updated_boundary_conditions(self):\n",
    "        \"\"\"Call if boundary conditions are updated.\n",
    "        \"\"\"\n",
    "        self.slope[self.grid.active_links] = \\\n",
    "            self.grid.calc_grad_at_link(self.elev)[self.grid.active_links]\n",
    "        self.sqrt_slope = np.sqrt(self.slope)\n",
    "        self.sign_slope = np.sign( self.slope )\n",
    "\n",
    "    def run_one_step(self, dt, current_time=0.0, **kwds):\n",
    "        \"\"\"Calculate water flow for a time period `dt`.\n",
    "        \"\"\"\n",
    "\n",
    "        if self._bc_set_code != self.grid.bc_set_code:\n",
    "            self.updated_boundary_conditions()\n",
    "            self._bc_set_code = self.grid.bc_set_code\n",
    "\n",
    "        # Calculate water depth at links\n",
    "        H_link = self._grid.map_value_at_max_node_to_link(\n",
    "                'topographic__elevation', 'surface_water__depth')\n",
    "\n",
    "        # Calculate velocity\n",
    "        self.vel = -self.sign_slope * self.vel_coef * H_link**0.66667 \\\n",
    "                    * self.sqrt_slope\n",
    "\n",
    "        # Calculate discharge\n",
    "        self.disch = H_link * self.vel\n",
    "\n",
    "        # Flux divergence\n",
    "        dqda = self._grid.calc_flux_div_at_node(self.disch)\n",
    "\n",
    "        # Rate of change of water depth\n",
    "        if current_time < self.precip_duration:\n",
    "            ppt = self.precip\n",
    "        else:\n",
    "            ppt = 0.0\n",
    "        dHdt = ppt - self.infilt - dqda\n",
    "\n",
    "        # Update water depth\n",
    "        self.depth[self._grid.core_nodes] += dHdt[self._grid.core_nodes] * dt\n",
    "\n",
    "        # Somewhat crude numerical hack: prevent negative water depth\n",
    "        self.depth[np.where(self.depth < 0.0)[0]] = 0.0"
   ]
  },
  {
   "cell_type": "code",
   "execution_count": 91,
   "metadata": {},
   "outputs": [
    {
     "ename": "NameError",
     "evalue": "name 'KinwaveOverlandFlowModel' is not defined",
     "output_type": "error",
     "traceback": [
      "\u001b[0;31m---------------------------------------------------------------------------\u001b[0m",
      "\u001b[0;31mNameError\u001b[0m                                 Traceback (most recent call last)",
      "\u001b[0;32m<ipython-input-91-a9e24fd89bcd>\u001b[0m in \u001b[0;36m<module>\u001b[0;34m()\u001b[0m\n\u001b[1;32m      5\u001b[0m \u001b[0mrg\u001b[0m\u001b[0;34m.\u001b[0m\u001b[0madd_empty\u001b[0m\u001b[0;34m(\u001b[0m\u001b[0;34m'node'\u001b[0m\u001b[0;34m,\u001b[0m \u001b[0;34m'topographic__elevation'\u001b[0m\u001b[0;34m)\u001b[0m\u001b[0;34m\u001b[0m\u001b[0m\n\u001b[1;32m      6\u001b[0m \u001b[0mrg\u001b[0m\u001b[0;34m.\u001b[0m\u001b[0mat_node\u001b[0m\u001b[0;34m[\u001b[0m\u001b[0;34m'topographic__elevation'\u001b[0m\u001b[0;34m]\u001b[0m\u001b[0;34m[\u001b[0m\u001b[0;34m:\u001b[0m\u001b[0;34m]\u001b[0m \u001b[0;34m=\u001b[0m \u001b[0mrg\u001b[0m\u001b[0;34m.\u001b[0m\u001b[0mnode_x\u001b[0m\u001b[0;34m.\u001b[0m\u001b[0mcopy\u001b[0m\u001b[0;34m(\u001b[0m\u001b[0;34m)\u001b[0m \u001b[0;31m#np.arange(nr * nc)\u001b[0m\u001b[0;34m\u001b[0m\u001b[0m\n\u001b[0;32m----> 7\u001b[0;31m \u001b[0mkinflow\u001b[0m \u001b[0;34m=\u001b[0m \u001b[0mKinwaveOverlandFlowModel\u001b[0m\u001b[0;34m(\u001b[0m\u001b[0mrg\u001b[0m\u001b[0;34m,\u001b[0m \u001b[0mprecip_rate\u001b[0m\u001b[0;34m=\u001b[0m\u001b[0;36m100.0\u001b[0m\u001b[0;34m,\u001b[0m \u001b[0mprecip_duration\u001b[0m\u001b[0;34m=\u001b[0m\u001b[0;36m100.0\u001b[0m\u001b[0;34m)\u001b[0m\u001b[0;34m\u001b[0m\u001b[0m\n\u001b[0m\u001b[1;32m      8\u001b[0m \u001b[0;32mfor\u001b[0m \u001b[0mi\u001b[0m \u001b[0;32min\u001b[0m \u001b[0mrange\u001b[0m\u001b[0;34m(\u001b[0m\u001b[0;36m100\u001b[0m\u001b[0;34m)\u001b[0m\u001b[0;34m:\u001b[0m\u001b[0;34m\u001b[0m\u001b[0m\n\u001b[1;32m      9\u001b[0m     \u001b[0mkinflow\u001b[0m\u001b[0;34m.\u001b[0m\u001b[0mrun_one_step\u001b[0m\u001b[0;34m(\u001b[0m\u001b[0;36m1.0\u001b[0m\u001b[0;34m)\u001b[0m\u001b[0;34m\u001b[0m\u001b[0m\n",
      "\u001b[0;31mNameError\u001b[0m: name 'KinwaveOverlandFlowModel' is not defined"
     ]
    }
   ],
   "source": [
    "from landlab import RasterModelGrid\n",
    "nr = 3\n",
    "nc = 4\n",
    "rg = RasterModelGrid((nr, nc), 10.0)\n",
    "rg.add_empty('node', 'topographic__elevation')\n",
    "rg.at_node['topographic__elevation'][:] = rg.node_x.copy() #np.arange(nr * nc)\n",
    "kinflow = KinwaveOverlandFlowModel(rg, precip_rate=100.0, precip_duration=100.0)\n",
    "for i in range(100):\n",
    "    kinflow.run_one_step(1.0)\n",
    "print('The discharge from node 6 to node 5 should be -0.000278 m2/s:')\n",
    "print(kinflow.disch[8])\n",
    "print('The discharge from node 5 to node 4 should be -0.000556 m2/s:')\n",
    "print(kinflow.disch[7])"
   ]
  },
  {
   "cell_type": "code",
   "execution_count": 3,
   "metadata": {},
   "outputs": [],
   "source": [
    "nr = 62\n",
    "nc = 42\n",
    "rg = RasterModelGrid(nr, nc, 10.0)\n",
    "rg.add_empty('node', 'topographic__elevation')\n",
    "rg.at_node['topographic__elevation'] = 0.01 * rg.node_y\n",
    "kinflow = KinwaveOverlandFlowModel(rg, precip_rate=100.0, precip_duration=100.0)\n",
    "for i in range(1800):\n",
    "    kinflow.run_one_step(1.0)"
   ]
  },
  {
   "cell_type": "code",
   "execution_count": 4,
   "metadata": {},
   "outputs": [
    {
     "data": {
      "image/png": "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\n",
      "text/plain": [
       "<Figure size 432x288 with 2 Axes>"
      ]
     },
     "metadata": {},
     "output_type": "display_data"
    }
   ],
   "source": [
    "%matplotlib inline\n",
    "from landlab.plot import imshow_grid\n",
    "imshow_grid(rg, 'topographic__elevation')"
   ]
  },
  {
   "cell_type": "code",
   "execution_count": null,
   "metadata": {},
   "outputs": [],
   "source": [
    "q_out = 0.1 * 600 / 3600.0\n",
    "q_out\n"
   ]
  }
 ],
 "metadata": {
  "kernelspec": {
   "display_name": "Python 3",
   "language": "python",
   "name": "python3"
  },
  "language_info": {
   "codemirror_mode": {
    "name": "ipython",
    "version": 3
   },
   "file_extension": ".py",
   "mimetype": "text/x-python",
   "name": "python",
   "nbconvert_exporter": "python",
   "pygments_lexer": "ipython3",
   "version": "3.6.4"
  }
 },
 "nbformat": 4,
 "nbformat_minor": 2
}
